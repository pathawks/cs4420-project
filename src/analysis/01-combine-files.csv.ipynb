{
 "cells": [
  {
   "cell_type": "markdown",
   "metadata": {},
   "source": [
    "# Combine Files\n",
    "\n",
    "- A*"
   ]
  },
  {
   "cell_type": "code",
   "execution_count": 1,
   "metadata": {},
   "outputs": [
    {
     "name": "stdout",
     "output_type": "stream",
     "text": [
      "Set 'plotting' = True to import plots\n"
     ]
    }
   ],
   "source": [
    "# Has many pre configured variables \n",
    "%run analysis.py"
   ]
  },
  {
   "cell_type": "code",
   "execution_count": 2,
   "metadata": {
    "collapsed": true
   },
   "outputs": [],
   "source": [
    "dfs = [pd.read_csv(x, names=column_names) for x in files]"
   ]
  },
  {
   "cell_type": "code",
   "execution_count": 3,
   "metadata": {},
   "outputs": [
    {
     "name": "stdout",
     "output_type": "stream",
     "text": [
      "['3x3' '4x4']\n",
      "['3x3' '4x4']\n",
      "['3x3' '4x4']\n",
      "['3x3' '4x4']\n",
      "['3x3' '4x4']\n",
      "['3x3' '4x4']\n",
      "['3x3' '4x4']\n",
      "['3x3' '4x4']\n",
      "[' disjointPDBHorizontal']\n",
      "[' disjointPDBVertical']\n",
      "[' disjointPDBMax']\n",
      "[' linearConflict']\n",
      "[' manhattan']\n",
      "[' NMaxSwap']\n",
      "[' nonAdditiveMax']\n",
      "[' nonAdditiveFringe']\n",
      "[' astar']\n",
      "[' astar']\n",
      "[' astar']\n",
      "[' astar']\n",
      "[' astar']\n",
      "[' astar']\n",
      "[' astar']\n",
      "[' astar']\n"
     ]
    }
   ],
   "source": [
    "for var in ['size', 'heur', 'algo']:\n",
    "    for df in dfs:\n",
    "        print (df[var].unique())"
   ]
  },
  {
   "cell_type": "code",
   "execution_count": 4,
   "metadata": {},
   "outputs": [
    {
     "data": {
      "text/html": [
       "<div>\n",
       "<table border=\"1\" class=\"dataframe\">\n",
       "  <thead>\n",
       "    <tr style=\"text-align: right;\">\n",
       "      <th></th>\n",
       "      <th>size</th>\n",
       "      <th>boardID</th>\n",
       "      <th>algo</th>\n",
       "      <th>heur</th>\n",
       "      <th>expanded</th>\n",
       "      <th>branching</th>\n",
       "      <th>cost</th>\n",
       "      <th>time</th>\n",
       "    </tr>\n",
       "  </thead>\n",
       "  <tbody>\n",
       "    <tr>\n",
       "      <th>0</th>\n",
       "      <td>3x3</td>\n",
       "      <td>1.txt</td>\n",
       "      <td>astar</td>\n",
       "      <td>disjointPDBHorizontal</td>\n",
       "      <td>1</td>\n",
       "      <td>3.00</td>\n",
       "      <td>1.0</td>\n",
       "      <td>4893.0</td>\n",
       "    </tr>\n",
       "    <tr>\n",
       "      <th>1</th>\n",
       "      <td>3x3</td>\n",
       "      <td>2.txt</td>\n",
       "      <td>astar</td>\n",
       "      <td>disjointPDBHorizontal</td>\n",
       "      <td>1</td>\n",
       "      <td>3.00</td>\n",
       "      <td>1.0</td>\n",
       "      <td>4814.0</td>\n",
       "    </tr>\n",
       "    <tr>\n",
       "      <th>2</th>\n",
       "      <td>3x3</td>\n",
       "      <td>3.txt</td>\n",
       "      <td>astar</td>\n",
       "      <td>disjointPDBHorizontal</td>\n",
       "      <td>2</td>\n",
       "      <td>2.19</td>\n",
       "      <td>2.0</td>\n",
       "      <td>4723.0</td>\n",
       "    </tr>\n",
       "    <tr>\n",
       "      <th>3</th>\n",
       "      <td>3x3</td>\n",
       "      <td>4.txt</td>\n",
       "      <td>astar</td>\n",
       "      <td>disjointPDBHorizontal</td>\n",
       "      <td>2</td>\n",
       "      <td>1.79</td>\n",
       "      <td>2.0</td>\n",
       "      <td>4770.0</td>\n",
       "    </tr>\n",
       "    <tr>\n",
       "      <th>4</th>\n",
       "      <td>3x3</td>\n",
       "      <td>5.txt</td>\n",
       "      <td>astar</td>\n",
       "      <td>disjointPDBHorizontal</td>\n",
       "      <td>0</td>\n",
       "      <td>1.00</td>\n",
       "      <td>0.0</td>\n",
       "      <td>3.0</td>\n",
       "    </tr>\n",
       "  </tbody>\n",
       "</table>\n",
       "</div>"
      ],
      "text/plain": [
       "  size     boardID    algo                    heur expanded  branching  cost  \\\n",
       "0  3x3       1.txt   astar   disjointPDBHorizontal        1       3.00   1.0   \n",
       "1  3x3       2.txt   astar   disjointPDBHorizontal        1       3.00   1.0   \n",
       "2  3x3       3.txt   astar   disjointPDBHorizontal        2       2.19   2.0   \n",
       "3  3x3       4.txt   astar   disjointPDBHorizontal        2       1.79   2.0   \n",
       "4  3x3       5.txt   astar   disjointPDBHorizontal        0       1.00   0.0   \n",
       "\n",
       "     time  \n",
       "0  4893.0  \n",
       "1  4814.0  \n",
       "2  4723.0  \n",
       "3  4770.0  \n",
       "4     3.0  "
      ]
     },
     "execution_count": 4,
     "metadata": {},
     "output_type": "execute_result"
    }
   ],
   "source": [
    "combined_astar = pd.concat(dfs)\n",
    "combined_astar.head()"
   ]
  },
  {
   "cell_type": "code",
   "execution_count": 5,
   "metadata": {},
   "outputs": [],
   "source": [
    "# fix the extra space in the heuristics\n",
    "combined_astar['heur'] = combined_astar['heur'].str.strip()"
   ]
  },
  {
   "cell_type": "code",
   "execution_count": 6,
   "metadata": {
    "collapsed": true
   },
   "outputs": [],
   "source": [
    "combined_astar.to_csv(astar_f, index=False)"
   ]
  },
  {
   "cell_type": "code",
   "execution_count": null,
   "metadata": {
    "collapsed": true
   },
   "outputs": [],
   "source": []
  }
 ],
 "metadata": {
  "kernelspec": {
   "display_name": "Python 3",
   "language": "python",
   "name": "python3"
  },
  "language_info": {
   "codemirror_mode": {
    "name": "ipython",
    "version": 3
   },
   "file_extension": ".py",
   "mimetype": "text/x-python",
   "name": "python",
   "nbconvert_exporter": "python",
   "pygments_lexer": "ipython3",
   "version": "3.6.0"
  }
 },
 "nbformat": 4,
 "nbformat_minor": 2
}
