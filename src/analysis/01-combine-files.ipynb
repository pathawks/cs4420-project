{
 "cells": [
  {
   "cell_type": "markdown",
   "metadata": {},
   "source": [
    "# Combine Files\n",
    "\n",
    "- A*"
   ]
  },
  {
   "cell_type": "code",
   "execution_count": 1,
   "metadata": {
    "collapsed": false
   },
   "outputs": [
    {
     "name": "stdout",
     "output_type": "stream",
     "text": [
      " Volume in drive H is rlrson\n",
      " Volume Serial Number is 8000-0458\n",
      "\n",
      " Directory of H:\\Develop\\cs4420-project\\data\\results\n",
      "\n",
      "05/05/2017  12:40 PM    <DIR>          .\n",
      "05/05/2017  11:58 AM    <DIR>          ..\n",
      "05/05/2017  12:41 PM    <DIR>          canonical\n",
      "05/05/2017  11:58 AM            37,313 disjointPDBHorizontal.csv\n",
      "05/05/2017  11:58 AM            33,676 disjointPDBMax.csv\n",
      "05/05/2017  11:58 AM            36,293 disjointPDBVertical.csv\n",
      "05/05/2017  11:58 AM            55,639 ida-linearConflict.csv\n",
      "05/05/2017  11:58 AM            57,374 linearConflict.csv\n",
      "05/05/2017  11:58 AM            53,042 manhattan.csv\n",
      "05/05/2017  11:58 AM            52,272 NMaxSwap.csv\n",
      "05/05/2017  11:58 AM            35,273 nonAdditiveFringe.csv\n",
      "05/05/2017  11:58 AM            33,743 nonAdditiveMax.csv\n",
      "               9 File(s)        394,625 bytes\n",
      "               3 Dir(s)  20,635,701,248 bytes free\n"
     ]
    }
   ],
   "source": [
    "%ls ..\\\\..\\\\data\\\\results\\\\"
   ]
  },
  {
   "cell_type": "code",
   "execution_count": 2,
   "metadata": {
    "collapsed": false
   },
   "outputs": [
    {
     "data": {
      "text/html": [
       "<style>.container { width:90% !important; }</style>"
      ],
      "text/plain": [
       "<IPython.core.display.HTML object>"
      ]
     },
     "metadata": {},
     "output_type": "display_data"
    },
    {
     "name": "stdout",
     "output_type": "stream",
     "text": [
      "To plot, execute the following:\n",
      "from matplotlib import pyplot as mplt\n",
      "from pandas.tools.plotting import parallel_coordinates\n",
      "from scipy import stats\n",
      "\n",
      "import seaborn as sns\n",
      "sns.set_palette('muted')\n",
      "sns.set_style('ticks')\n",
      "sns.set_context('notebook')\n"
     ]
    }
   ],
   "source": [
    "# Has many pre configured variables \n",
    "%run analysis.py"
   ]
  },
  {
   "cell_type": "code",
   "execution_count": 3,
   "metadata": {
    "collapsed": true
   },
   "outputs": [],
   "source": [
    "dfs = [pd.read_csv(x, names=column_names) for x in files]"
   ]
  },
  {
   "cell_type": "code",
   "execution_count": 4,
   "metadata": {
    "collapsed": false
   },
   "outputs": [
    {
     "name": "stdout",
     "output_type": "stream",
     "text": [
      "['3x3' '4x4']\n",
      "['3x3' '4x4']\n",
      "['3x3' '4x4']\n",
      "['3x3' '4x4']\n",
      "['3x3' '4x4']\n",
      "['3x3' '4x4']\n",
      "['3x3' '4x4']\n",
      "['3x3' '4x4']\n",
      "['3x3' '4x4']\n",
      "[' disjointPDBHorizontal']\n",
      "[' disjointPDBVertical']\n",
      "[' disjointPDBMax']\n",
      "[' linearConflict']\n",
      "[' linearConflict']\n",
      "[' manhattan']\n",
      "[' NMaxSwap']\n",
      "[' nonAdditiveMax']\n",
      "[' nonAdditiveFringe']\n",
      "[' astar']\n",
      "[' astar']\n",
      "[' astar']\n",
      "[' astar']\n",
      "[' ida']\n",
      "[' astar']\n",
      "[' astar']\n",
      "[' astar']\n",
      "[' astar']\n"
     ]
    }
   ],
   "source": [
    "for var in ['size', 'heur', 'algo']:\n",
    "    for df in dfs:\n",
    "        print (df[var].unique())"
   ]
  },
  {
   "cell_type": "code",
   "execution_count": 5,
   "metadata": {
    "collapsed": false
   },
   "outputs": [
    {
     "data": {
      "text/html": [
       "<div>\n",
       "<table border=\"1\" class=\"dataframe\">\n",
       "  <thead>\n",
       "    <tr style=\"text-align: right;\">\n",
       "      <th></th>\n",
       "      <th>size</th>\n",
       "      <th>boardID</th>\n",
       "      <th>algo</th>\n",
       "      <th>heur</th>\n",
       "      <th>expanded</th>\n",
       "      <th>branching</th>\n",
       "      <th>cost</th>\n",
       "      <th>time</th>\n",
       "    </tr>\n",
       "  </thead>\n",
       "  <tbody>\n",
       "    <tr>\n",
       "      <th>0</th>\n",
       "      <td>3x3</td>\n",
       "      <td>1.txt</td>\n",
       "      <td>astar</td>\n",
       "      <td>disjointPDBHorizontal</td>\n",
       "      <td>1</td>\n",
       "      <td>3.00</td>\n",
       "      <td>1</td>\n",
       "      <td>4893</td>\n",
       "    </tr>\n",
       "    <tr>\n",
       "      <th>1</th>\n",
       "      <td>3x3</td>\n",
       "      <td>2.txt</td>\n",
       "      <td>astar</td>\n",
       "      <td>disjointPDBHorizontal</td>\n",
       "      <td>1</td>\n",
       "      <td>3.00</td>\n",
       "      <td>1</td>\n",
       "      <td>4814</td>\n",
       "    </tr>\n",
       "    <tr>\n",
       "      <th>2</th>\n",
       "      <td>3x3</td>\n",
       "      <td>3.txt</td>\n",
       "      <td>astar</td>\n",
       "      <td>disjointPDBHorizontal</td>\n",
       "      <td>2</td>\n",
       "      <td>2.19</td>\n",
       "      <td>2</td>\n",
       "      <td>4723</td>\n",
       "    </tr>\n",
       "    <tr>\n",
       "      <th>3</th>\n",
       "      <td>3x3</td>\n",
       "      <td>4.txt</td>\n",
       "      <td>astar</td>\n",
       "      <td>disjointPDBHorizontal</td>\n",
       "      <td>2</td>\n",
       "      <td>1.79</td>\n",
       "      <td>2</td>\n",
       "      <td>4770</td>\n",
       "    </tr>\n",
       "    <tr>\n",
       "      <th>4</th>\n",
       "      <td>3x3</td>\n",
       "      <td>5.txt</td>\n",
       "      <td>astar</td>\n",
       "      <td>disjointPDBHorizontal</td>\n",
       "      <td>0</td>\n",
       "      <td>1.00</td>\n",
       "      <td>0</td>\n",
       "      <td>3</td>\n",
       "    </tr>\n",
       "  </tbody>\n",
       "</table>\n",
       "</div>"
      ],
      "text/plain": [
       "  size     boardID    algo                    heur  expanded  branching  cost  \\\n",
       "0  3x3       1.txt   astar   disjointPDBHorizontal         1       3.00     1   \n",
       "1  3x3       2.txt   astar   disjointPDBHorizontal         1       3.00     1   \n",
       "2  3x3       3.txt   astar   disjointPDBHorizontal         2       2.19     2   \n",
       "3  3x3       4.txt   astar   disjointPDBHorizontal         2       1.79     2   \n",
       "4  3x3       5.txt   astar   disjointPDBHorizontal         0       1.00     0   \n",
       "\n",
       "   time  \n",
       "0  4893  \n",
       "1  4814  \n",
       "2  4723  \n",
       "3  4770  \n",
       "4     3  "
      ]
     },
     "execution_count": 5,
     "metadata": {},
     "output_type": "execute_result"
    }
   ],
   "source": [
    "combined = pd.concat(dfs)\n",
    "combined.head()"
   ]
  },
  {
   "cell_type": "code",
   "execution_count": 6,
   "metadata": {
    "collapsed": true
   },
   "outputs": [],
   "source": [
    "# fix the extra space in some strings\n",
    "combined['heur'] = combined['heur'].str.strip()\n",
    "combined['algo'] = combined['algo'].str.strip()\n",
    "combined['size'] = combined['size'].str.strip()\n",
    "combined['boardID'] = combined['boardID'].str.strip()"
   ]
  },
  {
   "cell_type": "code",
   "execution_count": 7,
   "metadata": {
    "collapsed": false
   },
   "outputs": [
    {
     "name": "stdout",
     "output_type": "stream",
     "text": [
      "48128\n",
      "48128\n"
     ]
    }
   ],
   "source": [
    "# drop rows that will give us trouble later on\n",
    "# >>\tsize\tboardID\talgo\theur\texpanded\tbranching\tcost\ttime\n",
    "# >>\t4840\t4x4\t23.txt\tastar\tnonAdditiveFringe\t\tNaN\tNaN\tNaN\n",
    "\n",
    "print (combined.size)\n",
    "combined.dropna(subset=metrics, inplace=True)\n",
    "\n",
    "combined_size = combined.size\n",
    "print (combined_size)"
   ]
  },
  {
   "cell_type": "code",
   "execution_count": 8,
   "metadata": {
    "collapsed": true
   },
   "outputs": [],
   "source": [
    "# Minus 1 from the branching factor, because we can always go to the root\n",
    "combined.branching = combined.branching - 1"
   ]
  },
  {
   "cell_type": "code",
   "execution_count": 9,
   "metadata": {
    "collapsed": true
   },
   "outputs": [],
   "source": [
    "# reorder the columns \n",
    "col_order = ['boardID', 'algo', 'heur', 'size', 'expanded', 'branching', 'time', 'cost']\n",
    "combined = combined[col_order]"
   ]
  },
  {
   "cell_type": "markdown",
   "metadata": {},
   "source": [
    "---\n",
    "\n",
    "Combined results."
   ]
  },
  {
   "cell_type": "code",
   "execution_count": 10,
   "metadata": {
    "collapsed": true
   },
   "outputs": [],
   "source": [
    "# write out the completed file to disk\n",
    "combined.to_csv(combined_f, index=False)"
   ]
  },
  {
   "cell_type": "markdown",
   "metadata": {},
   "source": [
    "---\n",
    "\n",
    "Parallel Coordinates file."
   ]
  },
  {
   "cell_type": "code",
   "execution_count": 11,
   "metadata": {
    "collapsed": false
   },
   "outputs": [
    {
     "name": "stdout",
     "output_type": "stream",
     "text": [
      "Number of rows dropped: 680\n"
     ]
    }
   ],
   "source": [
    "# create a outlier-filtered dataset for the parallel coordinates\n",
    "parcords_df = combined[np.abs(combined.time-combined.time.mean())<=(3*combined.time.std())]\n",
    "print ('Number of rows dropped: {}'.format((combined_size - parcords_df.size)))"
   ]
  },
  {
   "cell_type": "code",
   "execution_count": 12,
   "metadata": {
    "collapsed": false
   },
   "outputs": [],
   "source": [
    "# write out the par cords to disk\n",
    "parcords_df.to_csv(parcord_f, index=False)"
   ]
  },
  {
   "cell_type": "markdown",
   "metadata": {},
   "source": [
    "---\n",
    "\n",
    "Number of records."
   ]
  },
  {
   "cell_type": "code",
   "execution_count": 13,
   "metadata": {
    "collapsed": false
   },
   "outputs": [
    {
     "data": {
      "text/html": [
       "<div>\n",
       "<table border=\"1\" class=\"dataframe\">\n",
       "  <thead>\n",
       "    <tr style=\"text-align: right;\">\n",
       "      <th></th>\n",
       "      <th></th>\n",
       "      <th></th>\n",
       "      <th>boardID</th>\n",
       "    </tr>\n",
       "    <tr>\n",
       "      <th>algo</th>\n",
       "      <th>heur</th>\n",
       "      <th>size</th>\n",
       "      <th></th>\n",
       "    </tr>\n",
       "  </thead>\n",
       "  <tbody>\n",
       "    <tr>\n",
       "      <th rowspan=\"16\" valign=\"top\">astar</th>\n",
       "      <th rowspan=\"2\" valign=\"top\">NMaxSwap</th>\n",
       "      <th>3x3</th>\n",
       "      <td>426</td>\n",
       "    </tr>\n",
       "    <tr>\n",
       "      <th>4x4</th>\n",
       "      <td>440</td>\n",
       "    </tr>\n",
       "    <tr>\n",
       "      <th rowspan=\"2\" valign=\"top\">disjointPDBHorizontal</th>\n",
       "      <th>3x3</th>\n",
       "      <td>426</td>\n",
       "    </tr>\n",
       "    <tr>\n",
       "      <th>4x4</th>\n",
       "      <td>84</td>\n",
       "    </tr>\n",
       "    <tr>\n",
       "      <th rowspan=\"2\" valign=\"top\">disjointPDBMax</th>\n",
       "      <th>3x3</th>\n",
       "      <td>426</td>\n",
       "    </tr>\n",
       "    <tr>\n",
       "      <th>4x4</th>\n",
       "      <td>83</td>\n",
       "    </tr>\n",
       "    <tr>\n",
       "      <th rowspan=\"2\" valign=\"top\">disjointPDBVertical</th>\n",
       "      <th>3x3</th>\n",
       "      <td>426</td>\n",
       "    </tr>\n",
       "    <tr>\n",
       "      <th>4x4</th>\n",
       "      <td>84</td>\n",
       "    </tr>\n",
       "    <tr>\n",
       "      <th rowspan=\"2\" valign=\"top\">linearConflict</th>\n",
       "      <th>3x3</th>\n",
       "      <td>426</td>\n",
       "    </tr>\n",
       "    <tr>\n",
       "      <th>4x4</th>\n",
       "      <td>441</td>\n",
       "    </tr>\n",
       "    <tr>\n",
       "      <th rowspan=\"2\" valign=\"top\">manhattan</th>\n",
       "      <th>3x3</th>\n",
       "      <td>426</td>\n",
       "    </tr>\n",
       "    <tr>\n",
       "      <th>4x4</th>\n",
       "      <td>441</td>\n",
       "    </tr>\n",
       "    <tr>\n",
       "      <th rowspan=\"2\" valign=\"top\">nonAdditiveFringe</th>\n",
       "      <th>3x3</th>\n",
       "      <td>426</td>\n",
       "    </tr>\n",
       "    <tr>\n",
       "      <th>4x4</th>\n",
       "      <td>84</td>\n",
       "    </tr>\n",
       "    <tr>\n",
       "      <th rowspan=\"2\" valign=\"top\">nonAdditiveMax</th>\n",
       "      <th>3x3</th>\n",
       "      <td>426</td>\n",
       "    </tr>\n",
       "    <tr>\n",
       "      <th>4x4</th>\n",
       "      <td>84</td>\n",
       "    </tr>\n",
       "    <tr>\n",
       "      <th rowspan=\"2\" valign=\"top\">ida</th>\n",
       "      <th rowspan=\"2\" valign=\"top\">linearConflict</th>\n",
       "      <th>3x3</th>\n",
       "      <td>426</td>\n",
       "    </tr>\n",
       "    <tr>\n",
       "      <th>4x4</th>\n",
       "      <td>441</td>\n",
       "    </tr>\n",
       "  </tbody>\n",
       "</table>\n",
       "</div>"
      ],
      "text/plain": [
       "                                  boardID\n",
       "algo  heur                  size         \n",
       "astar NMaxSwap              3x3       426\n",
       "                            4x4       440\n",
       "      disjointPDBHorizontal 3x3       426\n",
       "                            4x4        84\n",
       "      disjointPDBMax        3x3       426\n",
       "                            4x4        83\n",
       "      disjointPDBVertical   3x3       426\n",
       "                            4x4        84\n",
       "      linearConflict        3x3       426\n",
       "                            4x4       441\n",
       "      manhattan             3x3       426\n",
       "                            4x4       441\n",
       "      nonAdditiveFringe     3x3       426\n",
       "                            4x4        84\n",
       "      nonAdditiveMax        3x3       426\n",
       "                            4x4        84\n",
       "ida   linearConflict        3x3       426\n",
       "                            4x4       441"
      ]
     },
     "execution_count": 13,
     "metadata": {},
     "output_type": "execute_result"
    }
   ],
   "source": [
    "num_records_df = combined[['algo', 'heur', 'size', 'boardID']].groupby(['algo', 'heur', 'size']).count()\n",
    "num_records_df"
   ]
  },
  {
   "cell_type": "code",
   "execution_count": 14,
   "metadata": {
    "collapsed": true
   },
   "outputs": [],
   "source": [
    "num_records_df.to_csv((canonical_dir + 'number-experiments.csv'))"
   ]
  },
  {
   "cell_type": "markdown",
   "metadata": {},
   "source": [
    "---\n",
    "\n",
    "Algorithm Comparison."
   ]
  },
  {
   "cell_type": "code",
   "execution_count": 15,
   "metadata": {
    "collapsed": false
   },
   "outputs": [],
   "source": [
    "algos_df = combined[combined.heur == 'linearConflict']\n",
    "algos_df.to_csv(algos_f, index=False)"
   ]
  },
  {
   "cell_type": "code",
   "execution_count": null,
   "metadata": {
    "collapsed": true
   },
   "outputs": [],
   "source": []
  }
 ],
 "metadata": {
  "kernelspec": {
   "display_name": "Python 2",
   "language": "python",
   "name": "python2"
  },
  "language_info": {
   "codemirror_mode": {
    "name": "ipython",
    "version": 2
   },
   "file_extension": ".py",
   "mimetype": "text/x-python",
   "name": "python",
   "nbconvert_exporter": "python",
   "pygments_lexer": "ipython2",
   "version": "2.7.13"
  }
 },
 "nbformat": 4,
 "nbformat_minor": 2
}
