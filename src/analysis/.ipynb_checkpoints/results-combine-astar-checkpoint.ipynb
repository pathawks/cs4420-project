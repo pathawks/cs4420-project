{
 "cells": [
  {
   "cell_type": "markdown",
   "metadata": {},
   "source": [
    "# A.I. Project\n",
    "\n",
    "## Initial Results\n",
    "\n",
    "---\n",
    "\n",
    "**Collaborators: **Pat Hawks, Ryan Larson, Rui Yang.\n",
    "\n",
    "**Author: **Ryan Larson."
   ]
  },
  {
   "cell_type": "code",
   "execution_count": 6,
   "metadata": {
    "collapsed": false
   },
   "outputs": [],
   "source": [
    "# Libraries\n",
    "import numpy as np\n",
    "import pandas as pd\n",
    "\n",
    "#from scipy import stats\n",
    "#from matplotlib import pyplot as mplt\n",
    "#import seaborn as sns"
   ]
  },
  {
   "cell_type": "code",
   "execution_count": 2,
   "metadata": {
    "collapsed": true
   },
   "outputs": [],
   "source": [
    "# configs\n",
    "sns.set_palette('muted')\n",
    "sns.set_style('ticks')\n",
    "sns.set_context('notebook')\n",
    "\n",
    "import warnings\n",
    "warnings.filterwarnings('ignore')"
   ]
  },
  {
   "cell_type": "code",
   "execution_count": 2,
   "metadata": {
    "collapsed": false
   },
   "outputs": [
    {
     "name": "stdout",
     "output_type": "stream",
     "text": [
      " Volume in drive E is Media\n",
      " Volume Serial Number is 4845-40CB\n",
      "\n",
      " Directory of E:\\develop\\cs4420-project\\data\\results\n",
      "\n",
      "05/03/2017  05:51 PM    <DIR>          .\n",
      "05/03/2017  05:51 PM    <DIR>          ..\n",
      "05/03/2017  10:48 PM            25,805 linearConflict.csv\n",
      "05/03/2017  10:48 PM            52,175 manhattan.csv\n",
      "05/03/2017  10:48 PM            23,451 NMaxSwap.csv\n",
      "05/03/2017  10:48 PM         1,713,840 no-branching-factor.csv\n",
      "               4 File(s)      1,815,271 bytes\n",
      "               2 Dir(s)  280,471,240,704 bytes free\n"
     ]
    }
   ],
   "source": [
    "%ls ..\\\\..\\\\data\\\\results\\\\"
   ]
  },
  {
   "cell_type": "code",
   "execution_count": 14,
   "metadata": {
    "collapsed": true
   },
   "outputs": [],
   "source": [
    "# data\n",
    "metrics = ['expanded', 'branchingFactor', 'time']\n",
    "column_names = ['size', 'boardID', 'algo', 'heuristic',  'expanded', 'branchingFactor', 'cost', 'time']\n",
    "results_dir = '..\\\\..\\\\data\\\\results\\\\'\n",
    "\n",
    "linear_f = results_dir + 'linearConflict.csv'\n",
    "manhat_f = results_dir + 'manhattan.csv'\n",
    "nmax_f = results_dir + 'NMaxSwap.csv'\n",
    "branch_f = results_dir + 'no-branching-factor.csv'"
   ]
  },
  {
   "cell_type": "code",
   "execution_count": 8,
   "metadata": {
    "collapsed": true
   },
   "outputs": [],
   "source": [
    "linear_df = pd.read_csv(linear_f, names=column_names)\n",
    "manhat_df = pd.read_csv(manhat_f, names=column_names)\n",
    "nmax_df = pd.read_csv(nmax_f, names=column_names)\n",
    "branch_df = pd.read_csv(branch_f, names=column_names)"
   ]
  },
  {
   "cell_type": "code",
   "execution_count": 9,
   "metadata": {
    "collapsed": false
   },
   "outputs": [
    {
     "data": {
      "text/html": [
       "<div>\n",
       "<table border=\"1\" class=\"dataframe\">\n",
       "  <thead>\n",
       "    <tr style=\"text-align: right;\">\n",
       "      <th></th>\n",
       "      <th>size</th>\n",
       "      <th>boardID</th>\n",
       "      <th>algo</th>\n",
       "      <th>heuristic</th>\n",
       "      <th>expanded</th>\n",
       "      <th>branchingFactor</th>\n",
       "      <th>cost</th>\n",
       "      <th>time</th>\n",
       "    </tr>\n",
       "  </thead>\n",
       "  <tbody>\n",
       "    <tr>\n",
       "      <th>0</th>\n",
       "      <td>3x3</td>\n",
       "      <td>1.txt</td>\n",
       "      <td>astar</td>\n",
       "      <td>linearConflict</td>\n",
       "      <td>1</td>\n",
       "      <td>3</td>\n",
       "      <td>1</td>\n",
       "      <td>35</td>\n",
       "    </tr>\n",
       "    <tr>\n",
       "      <th>1</th>\n",
       "      <td>3x3</td>\n",
       "      <td>2.txt</td>\n",
       "      <td>astar</td>\n",
       "      <td>linearConflict</td>\n",
       "      <td>1</td>\n",
       "      <td>3</td>\n",
       "      <td>1</td>\n",
       "      <td>35</td>\n",
       "    </tr>\n",
       "  </tbody>\n",
       "</table>\n",
       "</div>"
      ],
      "text/plain": [
       "  size     boardID    algo        heuristic  expanded  branchingFactor  cost  \\\n",
       "0  3x3       1.txt   astar   linearConflict         1                3     1   \n",
       "1  3x3       2.txt   astar   linearConflict         1                3     1   \n",
       "\n",
       "   time  \n",
       "0    35  \n",
       "1    35  "
      ]
     },
     "execution_count": 9,
     "metadata": {},
     "output_type": "execute_result"
    }
   ],
   "source": [
    "linear_df.head(2)"
   ]
  },
  {
   "cell_type": "code",
   "execution_count": 12,
   "metadata": {
    "collapsed": false
   },
   "outputs": [
    {
     "data": {
      "text/html": [
       "<div>\n",
       "<table border=\"1\" class=\"dataframe\">\n",
       "  <thead>\n",
       "    <tr style=\"text-align: right;\">\n",
       "      <th></th>\n",
       "      <th>size</th>\n",
       "      <th>boardID</th>\n",
       "      <th>algo</th>\n",
       "      <th>heuristic</th>\n",
       "      <th>expanded</th>\n",
       "      <th>branchingFactor</th>\n",
       "      <th>cost</th>\n",
       "      <th>time</th>\n",
       "    </tr>\n",
       "  </thead>\n",
       "  <tbody>\n",
       "    <tr>\n",
       "      <th>0</th>\n",
       "      <td>3x3</td>\n",
       "      <td>1.txt</td>\n",
       "      <td>astar</td>\n",
       "      <td>manhattan</td>\n",
       "      <td>1</td>\n",
       "      <td>3</td>\n",
       "      <td>1</td>\n",
       "      <td>12</td>\n",
       "    </tr>\n",
       "    <tr>\n",
       "      <th>1</th>\n",
       "      <td>3x3</td>\n",
       "      <td>2.txt</td>\n",
       "      <td>astar</td>\n",
       "      <td>manhattan</td>\n",
       "      <td>1</td>\n",
       "      <td>3</td>\n",
       "      <td>1</td>\n",
       "      <td>11</td>\n",
       "    </tr>\n",
       "  </tbody>\n",
       "</table>\n",
       "</div>"
      ],
      "text/plain": [
       "  size     boardID    algo   heuristic  expanded  branchingFactor  cost  time\n",
       "0  3x3       1.txt   astar   manhattan         1                3     1    12\n",
       "1  3x3       2.txt   astar   manhattan         1                3     1    11"
      ]
     },
     "execution_count": 12,
     "metadata": {},
     "output_type": "execute_result"
    }
   ],
   "source": [
    "manhat_df.head(2)"
   ]
  },
  {
   "cell_type": "code",
   "execution_count": 11,
   "metadata": {
    "collapsed": false
   },
   "outputs": [
    {
     "data": {
      "text/html": [
       "<div>\n",
       "<table border=\"1\" class=\"dataframe\">\n",
       "  <thead>\n",
       "    <tr style=\"text-align: right;\">\n",
       "      <th></th>\n",
       "      <th>size</th>\n",
       "      <th>boardID</th>\n",
       "      <th>algo</th>\n",
       "      <th>heuristic</th>\n",
       "      <th>expanded</th>\n",
       "      <th>branchingFactor</th>\n",
       "      <th>cost</th>\n",
       "      <th>time</th>\n",
       "    </tr>\n",
       "  </thead>\n",
       "  <tbody>\n",
       "    <tr>\n",
       "      <th>0</th>\n",
       "      <td>3x3</td>\n",
       "      <td>1.txt</td>\n",
       "      <td>astar</td>\n",
       "      <td>NMaxSwap</td>\n",
       "      <td>1</td>\n",
       "      <td>3</td>\n",
       "      <td>1</td>\n",
       "      <td>42</td>\n",
       "    </tr>\n",
       "    <tr>\n",
       "      <th>1</th>\n",
       "      <td>3x3</td>\n",
       "      <td>2.txt</td>\n",
       "      <td>astar</td>\n",
       "      <td>NMaxSwap</td>\n",
       "      <td>1</td>\n",
       "      <td>3</td>\n",
       "      <td>1</td>\n",
       "      <td>19</td>\n",
       "    </tr>\n",
       "  </tbody>\n",
       "</table>\n",
       "</div>"
      ],
      "text/plain": [
       "  size     boardID    algo  heuristic  expanded  branchingFactor  cost  time\n",
       "0  3x3       1.txt   astar   NMaxSwap         1                3     1    42\n",
       "1  3x3       2.txt   astar   NMaxSwap         1                3     1    19"
      ]
     },
     "execution_count": 11,
     "metadata": {},
     "output_type": "execute_result"
    }
   ],
   "source": [
    "nmax_df.head(2)"
   ]
  },
  {
   "cell_type": "code",
   "execution_count": 13,
   "metadata": {
    "collapsed": false
   },
   "outputs": [
    {
     "data": {
      "text/html": [
       "<div>\n",
       "<table border=\"1\" class=\"dataframe\">\n",
       "  <thead>\n",
       "    <tr style=\"text-align: right;\">\n",
       "      <th></th>\n",
       "      <th>size</th>\n",
       "      <th>boardID</th>\n",
       "      <th>algo</th>\n",
       "      <th>heuristic</th>\n",
       "      <th>expanded</th>\n",
       "      <th>branchingFactor</th>\n",
       "      <th>cost</th>\n",
       "      <th>time</th>\n",
       "    </tr>\n",
       "  </thead>\n",
       "  <tbody>\n",
       "    <tr>\n",
       "      <th>0</th>\n",
       "      <td>3x3</td>\n",
       "      <td>1.txt</td>\n",
       "      <td>astar</td>\n",
       "      <td>manhattan</td>\n",
       "      <td>1</td>\n",
       "      <td>0</td>\n",
       "      <td>1</td>\n",
       "      <td>12</td>\n",
       "    </tr>\n",
       "    <tr>\n",
       "      <th>1</th>\n",
       "      <td>3x3</td>\n",
       "      <td>1.txt</td>\n",
       "      <td>astar</td>\n",
       "      <td>linearConflict</td>\n",
       "      <td>1</td>\n",
       "      <td>0</td>\n",
       "      <td>1</td>\n",
       "      <td>36</td>\n",
       "    </tr>\n",
       "  </tbody>\n",
       "</table>\n",
       "</div>"
      ],
      "text/plain": [
       "  size     boardID    algo        heuristic expanded  branchingFactor  cost  \\\n",
       "0  3x3       1.txt   astar        manhattan        1                0     1   \n",
       "1  3x3       1.txt   astar   linearConflict        1                0     1   \n",
       "\n",
       "   time  \n",
       "0    12  \n",
       "1    36  "
      ]
     },
     "execution_count": 13,
     "metadata": {},
     "output_type": "execute_result"
    }
   ],
   "source": [
    "branch_df.head(2)"
   ]
  },
  {
   "cell_type": "code",
   "execution_count": 17,
   "metadata": {
    "collapsed": false
   },
   "outputs": [
    {
     "data": {
      "text/plain": [
       " manhattan         867\n",
       " linearConflict    397\n",
       " NMaxSwap          396\n",
       "dtype: int64"
      ]
     },
     "execution_count": 17,
     "metadata": {},
     "output_type": "execute_result"
    }
   ],
   "source": [
    "# combine them all togther to make analysis easier\n",
    "comb_df = pd.concat([linear_df, manhat_df, nmax_df])\n",
    "\n",
    "comb_df.heuristic.value_counts()"
   ]
  },
  {
   "cell_type": "code",
   "execution_count": 18,
   "metadata": {
    "collapsed": true
   },
   "outputs": [],
   "source": [
    "combined_f = results_dir + 'combined-astar.csv'\n",
    "comb_df.to_csv(combined_f, index=False)"
   ]
  },
  {
   "cell_type": "code",
   "execution_count": 19,
   "metadata": {
    "collapsed": false
   },
   "outputs": [
    {
     "data": {
      "text/html": [
       "<div>\n",
       "<table border=\"1\" class=\"dataframe\">\n",
       "  <thead>\n",
       "    <tr style=\"text-align: right;\">\n",
       "      <th></th>\n",
       "      <th>size</th>\n",
       "      <th>boardID</th>\n",
       "      <th>algo</th>\n",
       "      <th>heuristic</th>\n",
       "      <th>expanded</th>\n",
       "      <th>branchingFactor</th>\n",
       "      <th>cost</th>\n",
       "      <th>time</th>\n",
       "    </tr>\n",
       "  </thead>\n",
       "  <tbody>\n",
       "    <tr>\n",
       "      <th>0</th>\n",
       "      <td>3x3</td>\n",
       "      <td>1.txt</td>\n",
       "      <td>astar</td>\n",
       "      <td>linearConflict</td>\n",
       "      <td>1</td>\n",
       "      <td>3.00</td>\n",
       "      <td>1</td>\n",
       "      <td>35</td>\n",
       "    </tr>\n",
       "    <tr>\n",
       "      <th>1</th>\n",
       "      <td>3x3</td>\n",
       "      <td>2.txt</td>\n",
       "      <td>astar</td>\n",
       "      <td>linearConflict</td>\n",
       "      <td>1</td>\n",
       "      <td>3.00</td>\n",
       "      <td>1</td>\n",
       "      <td>35</td>\n",
       "    </tr>\n",
       "    <tr>\n",
       "      <th>2</th>\n",
       "      <td>3x3</td>\n",
       "      <td>3.txt</td>\n",
       "      <td>astar</td>\n",
       "      <td>linearConflict</td>\n",
       "      <td>2</td>\n",
       "      <td>2.19</td>\n",
       "      <td>2</td>\n",
       "      <td>38</td>\n",
       "    </tr>\n",
       "    <tr>\n",
       "      <th>3</th>\n",
       "      <td>3x3</td>\n",
       "      <td>4.txt</td>\n",
       "      <td>astar</td>\n",
       "      <td>linearConflict</td>\n",
       "      <td>2</td>\n",
       "      <td>1.79</td>\n",
       "      <td>2</td>\n",
       "      <td>37</td>\n",
       "    </tr>\n",
       "    <tr>\n",
       "      <th>4</th>\n",
       "      <td>3x3</td>\n",
       "      <td>5.txt</td>\n",
       "      <td>astar</td>\n",
       "      <td>linearConflict</td>\n",
       "      <td>0</td>\n",
       "      <td>1.00</td>\n",
       "      <td>0</td>\n",
       "      <td>3</td>\n",
       "    </tr>\n",
       "  </tbody>\n",
       "</table>\n",
       "</div>"
      ],
      "text/plain": [
       "  size     boardID    algo        heuristic  expanded  branchingFactor  cost  \\\n",
       "0  3x3       1.txt   astar   linearConflict         1             3.00     1   \n",
       "1  3x3       2.txt   astar   linearConflict         1             3.00     1   \n",
       "2  3x3       3.txt   astar   linearConflict         2             2.19     2   \n",
       "3  3x3       4.txt   astar   linearConflict         2             1.79     2   \n",
       "4  3x3       5.txt   astar   linearConflict         0             1.00     0   \n",
       "\n",
       "   time  \n",
       "0    35  \n",
       "1    35  \n",
       "2    38  \n",
       "3    37  \n",
       "4     3  "
      ]
     },
     "execution_count": 19,
     "metadata": {},
     "output_type": "execute_result"
    }
   ],
   "source": [
    "comb_df.head()"
   ]
  },
  {
   "cell_type": "code",
   "execution_count": null,
   "metadata": {
    "collapsed": true
   },
   "outputs": [],
   "source": []
  },
  {
   "cell_type": "code",
   "execution_count": null,
   "metadata": {
    "collapsed": true
   },
   "outputs": [],
   "source": []
  },
  {
   "cell_type": "code",
   "execution_count": null,
   "metadata": {
    "collapsed": true
   },
   "outputs": [],
   "source": []
  },
  {
   "cell_type": "code",
   "execution_count": null,
   "metadata": {
    "collapsed": true
   },
   "outputs": [],
   "source": []
  },
  {
   "cell_type": "code",
   "execution_count": null,
   "metadata": {
    "collapsed": true
   },
   "outputs": [],
   "source": []
  },
  {
   "cell_type": "code",
   "execution_count": null,
   "metadata": {
    "collapsed": true
   },
   "outputs": [],
   "source": []
  },
  {
   "cell_type": "code",
   "execution_count": null,
   "metadata": {
    "collapsed": true
   },
   "outputs": [],
   "source": []
  },
  {
   "cell_type": "code",
   "execution_count": null,
   "metadata": {
    "collapsed": true
   },
   "outputs": [],
   "source": []
  },
  {
   "cell_type": "code",
   "execution_count": null,
   "metadata": {
    "collapsed": true
   },
   "outputs": [],
   "source": []
  },
  {
   "cell_type": "code",
   "execution_count": null,
   "metadata": {
    "collapsed": true
   },
   "outputs": [],
   "source": []
  },
  {
   "cell_type": "code",
   "execution_count": null,
   "metadata": {
    "collapsed": true
   },
   "outputs": [],
   "source": []
  },
  {
   "cell_type": "code",
   "execution_count": null,
   "metadata": {
    "collapsed": true
   },
   "outputs": [],
   "source": []
  },
  {
   "cell_type": "code",
   "execution_count": null,
   "metadata": {
    "collapsed": true
   },
   "outputs": [],
   "source": []
  },
  {
   "cell_type": "code",
   "execution_count": null,
   "metadata": {
    "collapsed": true
   },
   "outputs": [],
   "source": []
  },
  {
   "cell_type": "code",
   "execution_count": null,
   "metadata": {
    "collapsed": true
   },
   "outputs": [],
   "source": []
  },
  {
   "cell_type": "code",
   "execution_count": 8,
   "metadata": {
    "collapsed": true
   },
   "outputs": [],
   "source": [
    "# used functions\n",
    "def quantile_plot(x, **kwargs):\n",
    "    qntls, xr = stats.probplot(x, fit=False)\n",
    "    mplt.scatter(xr, qntls, **kwargs)\n",
    "    \n",
    "def dist_plots_vert(data, idx_attr, val_attr):\n",
    "    val_ordering = data[idx_attr].value_counts().index\n",
    "    g = sns.FacetGrid(data, row=idx_attr, row_order=val_ordering,\n",
    "                      size=1.7, aspect=4)\n",
    "    g.map(sns.distplot, val_attr, rug=True) #hist=False, rug=True\n",
    "    \n",
    "    return mplt.show()\n",
    "\n",
    "def factor_plots_scatter(data, row_attr, col_attr, x_attr, y_attr):\n",
    "    g_factor = sns.FacetGrid(data, row=row_attr, col=col_attr, margin_titles=True)\n",
    "    g_factor.map(sns.regplot, x_attr, y_attr, color=\".3\", fit_reg=False, x_jitter=.1)\n",
    "    return mplt.show()\n",
    "\n",
    "def plot_pair_grid(data, color_attr):\n",
    "    metrics = ['expanded', 'branchingFactor', 'time']\n",
    "    \n",
    "    g_pair = sns.PairGrid(data, hue=color_attr, vars=metrics)\n",
    "    g_pair = g_pair.map_diag(mplt.hist)\n",
    "    g_pair = g_pair.map_offdiag(mplt.scatter)\n",
    "    g_pair.add_legend()\n",
    "    \n",
    "    sns.despine()\n",
    "    return mplt.show()\n",
    "\n",
    "\n",
    "# NEEDS WORK\n",
    "def plot_box_subset(data, bigger, smaller):\n",
    "    '''\n",
    "    Function to plot every algo, every heuristic, and all of the metrics for the combo\n",
    "    '''\n",
    "    \n",
    "    \n",
    "     "
   ]
  },
  {
   "cell_type": "markdown",
   "metadata": {},
   "source": [
    "#### Nodes Expanded"
   ]
  },
  {
   "cell_type": "code",
   "execution_count": 10,
   "metadata": {
    "collapsed": false
   },
   "outputs": [
    {
     "data": {
      "image/png": "[encoded data removed]",
      "text/plain": [
       "<matplotlib.figure.Figure at 0x7f6e3d7172e8>"
      ]
     },
     "metadata": {},
     "output_type": "display_data"
    }
   ],
   "source": [
    "dist_plots_vert(df, 'heuristic', 'expanded')"
   ]
  },
  {
   "cell_type": "code",
   "execution_count": 11,
   "metadata": {
    "collapsed": false
   },
   "outputs": [
    {
     "data": {
      "image/png": "[encoded data removed]",
      "text/plain": [
       "<matplotlib.figure.Figure at 0x7f6e3da977f0>"
      ]
     },
     "metadata": {},
     "output_type": "display_data"
    },
    {
     "data": {
      "image/png": "[encoded data removed]",
      "text/plain": [
       "<matplotlib.figure.Figure at 0x7f6e3cfdc208>"
      ]
     },
     "metadata": {},
     "output_type": "display_data"
    },
    {
     "data": {
      "image/png": "[encoded data removed]",
      "text/plain": [
       "<matplotlib.figure.Figure at 0x7f6e3cfdca58>"
      ]
     },
     "metadata": {},
     "output_type": "display_data"
    }
   ],
   "source": [
    "for metric in metrics:\n",
    "    dist_plots_vert(df, 'heuristic', metric)"
   ]
  },
  {
   "cell_type": "markdown",
   "metadata": {},
   "source": [
    "#### Branching Factor"
   ]
  },
  {
   "cell_type": "code",
   "execution_count": 13,
   "metadata": {
    "collapsed": false
   },
   "outputs": [
    {
     "data": {
      "image/png": "[encoded data removed]",
      "text/plain": [
       "<matplotlib.figure.Figure at 0x7f6e3cbd11d0>"
      ]
     },
     "metadata": {},
     "output_type": "display_data"
    },
    {
     "data": {
      "image/png": "[encoded data removed]",
      "text/plain": [
       "<matplotlib.figure.Figure at 0x7f6e3d046b38>"
      ]
     },
     "metadata": {},
     "output_type": "display_data"
    }
   ],
   "source": [
    "dist_plots_vert(df, 'heuristic', 'branchingFactor')\n",
    "\n",
    "dist_plots_vert(df, 'algo', 'branchingFactor')"
   ]
  },
  {
   "cell_type": "markdown",
   "metadata": {},
   "source": [
    "#### Time Elapsed"
   ]
  },
  {
   "cell_type": "code",
   "execution_count": 14,
   "metadata": {
    "collapsed": false
   },
   "outputs": [
    {
     "data": {
      "image/png": "[encoded data removed]",
      "text/plain": [
       "<matplotlib.figure.Figure at 0x7f6e3cb90208>"
      ]
     },
     "metadata": {},
     "output_type": "display_data"
    }
   ],
   "source": [
    "dist_plots_vert(df, 'heuristic', 'time')"
   ]
  },
  {
   "cell_type": "code",
   "execution_count": 15,
   "metadata": {
    "collapsed": false
   },
   "outputs": [
    {
     "data": {
      "image/png": "[encoded data removed]",
      "text/plain": [
       "<matplotlib.figure.Figure at 0x7f6e3d66f908>"
      ]
     },
     "metadata": {},
     "output_type": "display_data"
    }
   ],
   "source": [
    "dist_plots_vert(df, 'algo', 'time')"
   ]
  },
  {
   "cell_type": "markdown",
   "metadata": {},
   "source": [
    "#### Heuristics\n",
    "\n",
    "* Box plot for each heuristic, grouped by algo.\n"
   ]
  },
  {
   "cell_type": "code",
   "execution_count": null,
   "metadata": {
    "collapsed": true
   },
   "outputs": [],
   "source": []
  },
  {
   "cell_type": "markdown",
   "metadata": {},
   "source": [
    "#### Algorithms\n",
    "\n",
    "* Box plot for each algo, subplots "
   ]
  },
  {
   "cell_type": "code",
   "execution_count": null,
   "metadata": {
    "collapsed": true
   },
   "outputs": [],
   "source": []
  },
  {
   "cell_type": "markdown",
   "metadata": {},
   "source": [
    "#### Relationships\n",
    "\n",
    "* Our canonical-control variable is the n-moves (cost) -> x in scatter\n",
    "* Our quasi-control is the heuristic and the algorithm -> color in scatter\n",
    "* Our experimental values are the branching factor, nodes expanded, and elapsed time. -> y in scatter"
   ]
  },
  {
   "cell_type": "code",
   "execution_count": null,
   "metadata": {
    "collapsed": true
   },
   "outputs": [],
   "source": [
    "# test factor\n",
    "\n",
    "factor_plots_scatter(df, 'algo', 'heuristic', 'cost', 'time')"
   ]
  },
  {
   "cell_type": "code",
   "execution_count": null,
   "metadata": {
    "collapsed": true
   },
   "outputs": [],
   "source": [
    "plot_algo_heur_box(df, 'astar')"
   ]
  },
  {
   "cell_type": "code",
   "execution_count": null,
   "metadata": {
    "collapsed": true
   },
   "outputs": [],
   "source": []
  }
 ],
 "metadata": {
  "kernelspec": {
   "display_name": "Python 2",
   "language": "python",
   "name": "python2"
  },
  "language_info": {
   "codemirror_mode": {
    "name": "ipython",
    "version": 2
   },
   "file_extension": ".py",
   "mimetype": "text/x-python",
   "name": "python",
   "nbconvert_exporter": "python",
   "pygments_lexer": "ipython2",
   "version": "2.7.9"
  }
 },
 "nbformat": 4,
 "nbformat_minor": 2
}
